{
 "cells": [
  {
   "cell_type": "markdown",
   "metadata": {},
   "source": [
    "Notebook 2: modeling"
   ]
  },
  {
   "cell_type": "code",
   "execution_count": 735,
   "metadata": {
    "ExecuteTime": {
     "end_time": "2020-10-10T18:00:08.476505Z",
     "start_time": "2020-10-10T18:00:08.461963Z"
    }
   },
   "outputs": [],
   "source": [
    "#   Importing libraries\n",
    "import re   #regular expressions\n",
    "import requests\n",
    "import numpy as np\n",
    "import pandas as pd\n",
    "import matplotlib.pyplot as plt\n",
    "import seaborn as sns\n",
    "import pickle\n",
    "import datetime as dt\n",
    "import math\n",
    "\n",
    "from sklearn.model_selection import train_test_split, KFold\n",
    "from sklearn.metrics import mean_squared_error\n",
    "from sklearn.pipeline import Pipeline\n",
    "from sklearn.preprocessing import StandardScaler, PolynomialFeatures\n",
    "from sklearn.linear_model import LinearRegression, Lasso, LassoCV, Ridge, RidgeCV\n",
    "import statsmodels.api as sm\n",
    "import statsmodels.formula.api as smf \n",
    "%matplotlib inline\n"
   ]
  },
  {
   "cell_type": "markdown",
   "metadata": {},
   "source": [
    "# Importing data"
   ]
  },
  {
   "cell_type": "markdown",
   "metadata": {},
   "source": [
    "See accompanying notebook: 'Project_2_scraping_and_cleaning_final'."
   ]
  },
  {
   "cell_type": "code",
   "execution_count": 717,
   "metadata": {
    "ExecuteTime": {
     "end_time": "2020-10-10T17:58:00.486680Z",
     "start_time": "2020-10-10T17:58:00.442287Z"
    }
   },
   "outputs": [],
   "source": [
    "modern_df = pd.read_pickle('modern_df_ready_for_model_10-8-20_PICKLE')"
   ]
  },
  {
   "cell_type": "code",
   "execution_count": 718,
   "metadata": {
    "ExecuteTime": {
     "end_time": "2020-10-10T17:58:01.045683Z",
     "start_time": "2020-10-10T17:58:01.041845Z"
    }
   },
   "outputs": [
    {
     "data": {
      "text/plain": [
       "17"
      ]
     },
     "execution_count": 718,
     "metadata": {},
     "output_type": "execute_result"
    }
   ],
   "source": [
    "len(modern_df.columns)"
   ]
  },
  {
   "cell_type": "code",
   "execution_count": 719,
   "metadata": {
    "ExecuteTime": {
     "end_time": "2020-10-10T17:58:01.583476Z",
     "start_time": "2020-10-10T17:58:01.579216Z"
    }
   },
   "outputs": [
    {
     "data": {
      "text/plain": [
       "(15899, 17)"
      ]
     },
     "execution_count": 719,
     "metadata": {},
     "output_type": "execute_result"
    }
   ],
   "source": [
    "modern_df.shape"
   ]
  },
  {
   "cell_type": "code",
   "execution_count": 720,
   "metadata": {
    "ExecuteTime": {
     "end_time": "2020-10-10T17:58:02.322836Z",
     "start_time": "2020-10-10T17:58:02.300278Z"
    }
   },
   "outputs": [
    {
     "data": {
      "text/html": [
       "<div>\n",
       "<style scoped>\n",
       "    .dataframe tbody tr th:only-of-type {\n",
       "        vertical-align: middle;\n",
       "    }\n",
       "\n",
       "    .dataframe tbody tr th {\n",
       "        vertical-align: top;\n",
       "    }\n",
       "\n",
       "    .dataframe thead th {\n",
       "        text-align: right;\n",
       "    }\n",
       "</style>\n",
       "<table border=\"1\" class=\"dataframe\">\n",
       "  <thead>\n",
       "    <tr style=\"text-align: right;\">\n",
       "      <th></th>\n",
       "      <th>expansion</th>\n",
       "      <th>rarity</th>\n",
       "      <th>cost</th>\n",
       "      <th>cmc</th>\n",
       "      <th>color_identity</th>\n",
       "      <th>rules_text</th>\n",
       "      <th>price</th>\n",
       "      <th>is_w</th>\n",
       "      <th>is_u</th>\n",
       "      <th>is_b</th>\n",
       "      <th>is_r</th>\n",
       "      <th>is_g</th>\n",
       "      <th>rarity_num</th>\n",
       "      <th>rules_text_len</th>\n",
       "      <th>num_printings</th>\n",
       "      <th>rel_date</th>\n",
       "      <th>time_since_release</th>\n",
       "    </tr>\n",
       "    <tr>\n",
       "      <th>name</th>\n",
       "      <th></th>\n",
       "      <th></th>\n",
       "      <th></th>\n",
       "      <th></th>\n",
       "      <th></th>\n",
       "      <th></th>\n",
       "      <th></th>\n",
       "      <th></th>\n",
       "      <th></th>\n",
       "      <th></th>\n",
       "      <th></th>\n",
       "      <th></th>\n",
       "      <th></th>\n",
       "      <th></th>\n",
       "      <th></th>\n",
       "      <th></th>\n",
       "      <th></th>\n",
       "    </tr>\n",
       "  </thead>\n",
       "  <tbody>\n",
       "    <tr>\n",
       "      <th>Gideon of the Trials</th>\n",
       "      <td>Amonkhet</td>\n",
       "      <td>M</td>\n",
       "      <td>1ww</td>\n",
       "      <td>3</td>\n",
       "      <td>w</td>\n",
       "      <td>[+1]: Until your next turn, prevent all damage...</td>\n",
       "      <td>6.99</td>\n",
       "      <td>1</td>\n",
       "      <td>0</td>\n",
       "      <td>0</td>\n",
       "      <td>0</td>\n",
       "      <td>0</td>\n",
       "      <td>4</td>\n",
       "      <td>401</td>\n",
       "      <td>1</td>\n",
       "      <td>2017-04-28</td>\n",
       "      <td>1259.0</td>\n",
       "    </tr>\n",
       "    <tr>\n",
       "      <th>Force of Negation</th>\n",
       "      <td>Modern Horizons</td>\n",
       "      <td>R</td>\n",
       "      <td>1uu</td>\n",
       "      <td>3</td>\n",
       "      <td>u</td>\n",
       "      <td>If it's not your turn, you may exile a blue ca...</td>\n",
       "      <td>54.99</td>\n",
       "      <td>0</td>\n",
       "      <td>1</td>\n",
       "      <td>0</td>\n",
       "      <td>0</td>\n",
       "      <td>0</td>\n",
       "      <td>3</td>\n",
       "      <td>234</td>\n",
       "      <td>1</td>\n",
       "      <td>2019-06-14</td>\n",
       "      <td>482.0</td>\n",
       "    </tr>\n",
       "    <tr>\n",
       "      <th>Polluted Delta</th>\n",
       "      <td>Khans of Tarkir</td>\n",
       "      <td>R</td>\n",
       "      <td></td>\n",
       "      <td>0</td>\n",
       "      <td>colorless</td>\n",
       "      <td>, Pay 1 life, Sacrifice Polluted Delta: Search...</td>\n",
       "      <td>32.99</td>\n",
       "      <td>0</td>\n",
       "      <td>0</td>\n",
       "      <td>0</td>\n",
       "      <td>0</td>\n",
       "      <td>0</td>\n",
       "      <td>3</td>\n",
       "      <td>136</td>\n",
       "      <td>1</td>\n",
       "      <td>2014-09-26</td>\n",
       "      <td>2204.0</td>\n",
       "    </tr>\n",
       "    <tr>\n",
       "      <th>Cavern of Souls</th>\n",
       "      <td>Avacyn Restored</td>\n",
       "      <td>R</td>\n",
       "      <td></td>\n",
       "      <td>0</td>\n",
       "      <td>colorless</td>\n",
       "      <td>As Cavern of Souls enters the battlefield, cho...</td>\n",
       "      <td>79.99</td>\n",
       "      <td>0</td>\n",
       "      <td>0</td>\n",
       "      <td>0</td>\n",
       "      <td>0</td>\n",
       "      <td>0</td>\n",
       "      <td>3</td>\n",
       "      <td>204</td>\n",
       "      <td>1</td>\n",
       "      <td>2012-05-04</td>\n",
       "      <td>3079.0</td>\n",
       "    </tr>\n",
       "    <tr>\n",
       "      <th>Wooded Foothills</th>\n",
       "      <td>Khans of Tarkir</td>\n",
       "      <td>R</td>\n",
       "      <td></td>\n",
       "      <td>0</td>\n",
       "      <td>colorless</td>\n",
       "      <td>, Pay 1 life, Sacrifice Wooded Foothills: Sear...</td>\n",
       "      <td>29.99</td>\n",
       "      <td>0</td>\n",
       "      <td>0</td>\n",
       "      <td>0</td>\n",
       "      <td>0</td>\n",
       "      <td>0</td>\n",
       "      <td>3</td>\n",
       "      <td>140</td>\n",
       "      <td>1</td>\n",
       "      <td>2014-09-26</td>\n",
       "      <td>2204.0</td>\n",
       "    </tr>\n",
       "  </tbody>\n",
       "</table>\n",
       "</div>"
      ],
      "text/plain": [
       "                            expansion rarity cost  cmc color_identity  \\\n",
       "name                                                                    \n",
       "Gideon of the Trials         Amonkhet      M  1ww    3              w   \n",
       "Force of Negation     Modern Horizons      R  1uu    3              u   \n",
       "Polluted Delta        Khans of Tarkir      R         0      colorless   \n",
       "Cavern of Souls       Avacyn Restored      R         0      colorless   \n",
       "Wooded Foothills      Khans of Tarkir      R         0      colorless   \n",
       "\n",
       "                                                             rules_text  \\\n",
       "name                                                                      \n",
       "Gideon of the Trials  [+1]: Until your next turn, prevent all damage...   \n",
       "Force of Negation     If it's not your turn, you may exile a blue ca...   \n",
       "Polluted Delta        , Pay 1 life, Sacrifice Polluted Delta: Search...   \n",
       "Cavern of Souls       As Cavern of Souls enters the battlefield, cho...   \n",
       "Wooded Foothills      , Pay 1 life, Sacrifice Wooded Foothills: Sear...   \n",
       "\n",
       "                      price  is_w  is_u  is_b  is_r  is_g  rarity_num  \\\n",
       "name                                                                    \n",
       "Gideon of the Trials   6.99     1     0     0     0     0           4   \n",
       "Force of Negation     54.99     0     1     0     0     0           3   \n",
       "Polluted Delta        32.99     0     0     0     0     0           3   \n",
       "Cavern of Souls       79.99     0     0     0     0     0           3   \n",
       "Wooded Foothills      29.99     0     0     0     0     0           3   \n",
       "\n",
       "                      rules_text_len  num_printings   rel_date  \\\n",
       "name                                                             \n",
       "Gideon of the Trials             401              1 2017-04-28   \n",
       "Force of Negation                234              1 2019-06-14   \n",
       "Polluted Delta                   136              1 2014-09-26   \n",
       "Cavern of Souls                  204              1 2012-05-04   \n",
       "Wooded Foothills                 140              1 2014-09-26   \n",
       "\n",
       "                      time_since_release  \n",
       "name                                      \n",
       "Gideon of the Trials              1259.0  \n",
       "Force of Negation                  482.0  \n",
       "Polluted Delta                    2204.0  \n",
       "Cavern of Souls                   3079.0  \n",
       "Wooded Foothills                  2204.0  "
      ]
     },
     "execution_count": 720,
     "metadata": {},
     "output_type": "execute_result"
    }
   ],
   "source": [
    "modern_df.head()"
   ]
  },
  {
   "cell_type": "markdown",
   "metadata": {},
   "source": [
    "## Features and target"
   ]
  },
  {
   "cell_type": "code",
   "execution_count": 778,
   "metadata": {
    "ExecuteTime": {
     "end_time": "2020-10-10T22:17:42.852744Z",
     "start_time": "2020-10-10T22:17:42.848705Z"
    }
   },
   "outputs": [],
   "source": [
    "features = modern_df[['rarity_num', 'num_printings', 'time_since_release', 'rules_text_len', 'cmc', 'is_w', 'is_u','is_b', 'is_r', 'is_g']]\n",
    "\n",
    "target = modern_df['price']"
   ]
  },
  {
   "cell_type": "code",
   "execution_count": 779,
   "metadata": {
    "ExecuteTime": {
     "end_time": "2020-10-10T22:17:43.351287Z",
     "start_time": "2020-10-10T22:17:43.345924Z"
    }
   },
   "outputs": [
    {
     "data": {
      "text/plain": [
       "rarity_num              int64\n",
       "num_printings           int64\n",
       "time_since_release    float64\n",
       "rules_text_len          int64\n",
       "cmc                     int64\n",
       "is_w                    int64\n",
       "is_u                    int64\n",
       "is_b                    int64\n",
       "is_r                    int64\n",
       "is_g                    int64\n",
       "dtype: object"
      ]
     },
     "execution_count": 779,
     "metadata": {},
     "output_type": "execute_result"
    }
   ],
   "source": [
    "features.dtypes"
   ]
  },
  {
   "cell_type": "code",
   "execution_count": 780,
   "metadata": {
    "ExecuteTime": {
     "end_time": "2020-10-10T22:17:44.701621Z",
     "start_time": "2020-10-10T22:17:44.697702Z"
    },
    "scrolled": true
   },
   "outputs": [
    {
     "data": {
      "text/plain": [
       "((15899, 10), (15899,))"
      ]
     },
     "execution_count": 780,
     "metadata": {},
     "output_type": "execute_result"
    }
   ],
   "source": [
    "features.shape, target.shape"
   ]
  },
  {
   "cell_type": "markdown",
   "metadata": {},
   "source": [
    "# Testing basic model"
   ]
  },
  {
   "cell_type": "code",
   "execution_count": 760,
   "metadata": {
    "ExecuteTime": {
     "end_time": "2020-10-10T22:14:16.323722Z",
     "start_time": "2020-10-10T22:14:16.305594Z"
    }
   },
   "outputs": [
    {
     "name": "stdout",
     "output_type": "stream",
     "text": [
      "feature:  rarity_num , coeff:  2.0303120955092635\n",
      "feature:  num_printings , coeff:  0.0666411528988905\n",
      "feature:  time_since_release , coeff:  0.00014014008966362632\n",
      "feature:  rules_text_len , coeff:  0.0003615674102219052\n",
      "feature:  cmc , coeff:  -0.25605444604785843\n",
      "feature:  is_w , coeff:  -0.9135592863291709\n",
      "feature:  is_u , coeff:  -0.7193419357927896\n",
      "feature:  is_b , coeff:  -0.5736590653552064\n",
      "feature:  is_r , coeff:  -1.094814313287997\n",
      "feature:  is_g , coeff:  -0.5435871080172031\n"
     ]
    }
   ],
   "source": [
    "lm = LinearRegression()\n",
    "\n",
    "lm.fit(features,target)\n",
    "\n",
    "for feature, coeff in zip(features.columns,lm.coef_):\n",
    "    print('feature: ', feature, ',', 'coeff: ', coeff)\n"
   ]
  },
  {
   "cell_type": "markdown",
   "metadata": {},
   "source": [
    "## Comparing to statsmodel"
   ]
  },
  {
   "cell_type": "code",
   "execution_count": 761,
   "metadata": {
    "ExecuteTime": {
     "end_time": "2020-10-10T22:14:21.640578Z",
     "start_time": "2020-10-10T22:14:21.609733Z"
    }
   },
   "outputs": [
    {
     "data": {
      "text/html": [
       "<table class=\"simpletable\">\n",
       "<caption>OLS Regression Results</caption>\n",
       "<tr>\n",
       "  <th>Dep. Variable:</th>          <td>price</td>      <th>  R-squared (uncentered):</th>      <td>   0.221</td> \n",
       "</tr>\n",
       "<tr>\n",
       "  <th>Model:</th>                   <td>OLS</td>       <th>  Adj. R-squared (uncentered):</th> <td>   0.221</td> \n",
       "</tr>\n",
       "<tr>\n",
       "  <th>Method:</th>             <td>Least Squares</td>  <th>  F-statistic:       </th>          <td>   451.4</td> \n",
       "</tr>\n",
       "<tr>\n",
       "  <th>Date:</th>             <td>Sat, 10 Oct 2020</td> <th>  Prob (F-statistic):</th>           <td>  0.00</td>  \n",
       "</tr>\n",
       "<tr>\n",
       "  <th>Time:</th>                 <td>15:14:21</td>     <th>  Log-Likelihood:    </th>          <td> -45878.</td> \n",
       "</tr>\n",
       "<tr>\n",
       "  <th>No. Observations:</th>      <td> 15899</td>      <th>  AIC:               </th>          <td>9.178e+04</td>\n",
       "</tr>\n",
       "<tr>\n",
       "  <th>Df Residuals:</th>          <td> 15889</td>      <th>  BIC:               </th>          <td>9.185e+04</td>\n",
       "</tr>\n",
       "<tr>\n",
       "  <th>Df Model:</th>              <td>    10</td>      <th>                     </th>              <td> </td>    \n",
       "</tr>\n",
       "<tr>\n",
       "  <th>Covariance Type:</th>      <td>nonrobust</td>    <th>                     </th>              <td> </td>    \n",
       "</tr>\n",
       "</table>\n",
       "<table class=\"simpletable\">\n",
       "<tr>\n",
       "           <td></td>             <th>coef</th>     <th>std err</th>      <th>t</th>      <th>P>|t|</th>  <th>[0.025</th>    <th>0.975]</th>  \n",
       "</tr>\n",
       "<tr>\n",
       "  <th>rarity_num</th>         <td>    1.8792</td> <td>    0.040</td> <td>   46.723</td> <td> 0.000</td> <td>    1.800</td> <td>    1.958</td>\n",
       "</tr>\n",
       "<tr>\n",
       "  <th>num_printings</th>      <td>   -0.0425</td> <td>    0.022</td> <td>   -1.907</td> <td> 0.056</td> <td>   -0.086</td> <td>    0.001</td>\n",
       "</tr>\n",
       "<tr>\n",
       "  <th>time_since_release</th> <td> 4.704e-05</td> <td>  1.7e-05</td> <td>    2.760</td> <td> 0.006</td> <td> 1.36e-05</td> <td> 8.05e-05</td>\n",
       "</tr>\n",
       "<tr>\n",
       "  <th>rules_text_len</th>     <td>   -0.0013</td> <td>    0.000</td> <td>   -2.874</td> <td> 0.004</td> <td>   -0.002</td> <td>   -0.000</td>\n",
       "</tr>\n",
       "<tr>\n",
       "  <th>cmc</th>                <td>   -0.3051</td> <td>    0.021</td> <td>  -14.769</td> <td> 0.000</td> <td>   -0.346</td> <td>   -0.265</td>\n",
       "</tr>\n",
       "<tr>\n",
       "  <th>is_w</th>               <td>   -1.2458</td> <td>    0.094</td> <td>  -13.238</td> <td> 0.000</td> <td>   -1.430</td> <td>   -1.061</td>\n",
       "</tr>\n",
       "<tr>\n",
       "  <th>is_u</th>               <td>   -1.0060</td> <td>    0.096</td> <td>  -10.505</td> <td> 0.000</td> <td>   -1.194</td> <td>   -0.818</td>\n",
       "</tr>\n",
       "<tr>\n",
       "  <th>is_b</th>               <td>   -0.8649</td> <td>    0.096</td> <td>   -9.024</td> <td> 0.000</td> <td>   -1.053</td> <td>   -0.677</td>\n",
       "</tr>\n",
       "<tr>\n",
       "  <th>is_r</th>               <td>   -1.3933</td> <td>    0.095</td> <td>  -14.594</td> <td> 0.000</td> <td>   -1.580</td> <td>   -1.206</td>\n",
       "</tr>\n",
       "<tr>\n",
       "  <th>is_g</th>               <td>   -0.8257</td> <td>    0.096</td> <td>   -8.573</td> <td> 0.000</td> <td>   -1.014</td> <td>   -0.637</td>\n",
       "</tr>\n",
       "</table>\n",
       "<table class=\"simpletable\">\n",
       "<tr>\n",
       "  <th>Omnibus:</th>       <td>22400.383</td> <th>  Durbin-Watson:     </th>  <td>   1.044</td>  \n",
       "</tr>\n",
       "<tr>\n",
       "  <th>Prob(Omnibus):</th>  <td> 0.000</td>   <th>  Jarque-Bera (JB):  </th> <td>7512309.117</td>\n",
       "</tr>\n",
       "<tr>\n",
       "  <th>Skew:</th>           <td> 8.329</td>   <th>  Prob(JB):          </th>  <td>    0.00</td>  \n",
       "</tr>\n",
       "<tr>\n",
       "  <th>Kurtosis:</th>       <td>108.179</td>  <th>  Cond. No.          </th>  <td>1.44e+04</td>  \n",
       "</tr>\n",
       "</table><br/><br/>Notes:<br/>[1] R² is computed without centering (uncentered) since the model does not contain a constant.<br/>[2] Standard Errors assume that the covariance matrix of the errors is correctly specified.<br/>[3] The condition number is large, 1.44e+04. This might indicate that there are<br/>strong multicollinearity or other numerical problems."
      ],
      "text/plain": [
       "<class 'statsmodels.iolib.summary.Summary'>\n",
       "\"\"\"\n",
       "                                 OLS Regression Results                                \n",
       "=======================================================================================\n",
       "Dep. Variable:                  price   R-squared (uncentered):                   0.221\n",
       "Model:                            OLS   Adj. R-squared (uncentered):              0.221\n",
       "Method:                 Least Squares   F-statistic:                              451.4\n",
       "Date:                Sat, 10 Oct 2020   Prob (F-statistic):                        0.00\n",
       "Time:                        15:14:21   Log-Likelihood:                         -45878.\n",
       "No. Observations:               15899   AIC:                                  9.178e+04\n",
       "Df Residuals:                   15889   BIC:                                  9.185e+04\n",
       "Df Model:                          10                                                  \n",
       "Covariance Type:            nonrobust                                                  \n",
       "======================================================================================\n",
       "                         coef    std err          t      P>|t|      [0.025      0.975]\n",
       "--------------------------------------------------------------------------------------\n",
       "rarity_num             1.8792      0.040     46.723      0.000       1.800       1.958\n",
       "num_printings         -0.0425      0.022     -1.907      0.056      -0.086       0.001\n",
       "time_since_release  4.704e-05    1.7e-05      2.760      0.006    1.36e-05    8.05e-05\n",
       "rules_text_len        -0.0013      0.000     -2.874      0.004      -0.002      -0.000\n",
       "cmc                   -0.3051      0.021    -14.769      0.000      -0.346      -0.265\n",
       "is_w                  -1.2458      0.094    -13.238      0.000      -1.430      -1.061\n",
       "is_u                  -1.0060      0.096    -10.505      0.000      -1.194      -0.818\n",
       "is_b                  -0.8649      0.096     -9.024      0.000      -1.053      -0.677\n",
       "is_r                  -1.3933      0.095    -14.594      0.000      -1.580      -1.206\n",
       "is_g                  -0.8257      0.096     -8.573      0.000      -1.014      -0.637\n",
       "==============================================================================\n",
       "Omnibus:                    22400.383   Durbin-Watson:                   1.044\n",
       "Prob(Omnibus):                  0.000   Jarque-Bera (JB):          7512309.117\n",
       "Skew:                           8.329   Prob(JB):                         0.00\n",
       "Kurtosis:                     108.179   Cond. No.                     1.44e+04\n",
       "==============================================================================\n",
       "\n",
       "Notes:\n",
       "[1] R² is computed without centering (uncentered) since the model does not contain a constant.\n",
       "[2] Standard Errors assume that the covariance matrix of the errors is correctly specified.\n",
       "[3] The condition number is large, 1.44e+04. This might indicate that there are\n",
       "strong multicollinearity or other numerical problems.\n",
       "\"\"\""
      ]
     },
     "execution_count": 761,
     "metadata": {},
     "output_type": "execute_result"
    }
   ],
   "source": [
    "model = sm.OLS(target,features) # Same as sklearn linear regression\n",
    "\n",
    "#Fit\n",
    "fit = model.fit()\n",
    "\n",
    "#Print out summary\n",
    "fit.summary()"
   ]
  },
  {
   "cell_type": "markdown",
   "metadata": {},
   "source": [
    "Important features: \n",
    "* rarity_num (+)\n",
    "* num_printings (-, barely not significant)\n",
    "* cmc (-)"
   ]
  },
  {
   "cell_type": "markdown",
   "metadata": {},
   "source": [
    "rarity has highest negative correlation for red cards: red efficient cards tend to be more expensive -- see burn, prowess, blitz"
   ]
  },
  {
   "cell_type": "markdown",
   "metadata": {},
   "source": [
    "# KF validation on 6 models"
   ]
  },
  {
   "cell_type": "markdown",
   "metadata": {},
   "source": [
    "## Setting variables"
   ]
  },
  {
   "cell_type": "code",
   "execution_count": 781,
   "metadata": {
    "ExecuteTime": {
     "end_time": "2020-10-10T22:17:51.343792Z",
     "start_time": "2020-10-10T22:17:51.339316Z"
    }
   },
   "outputs": [],
   "source": [
    "features = modern_df[['rarity_num', 'num_printings', 'time_since_release', 'rules_text_len', 'cmc', 'is_w', 'is_u','is_b', 'is_r', 'is_g']]\n",
    "\n",
    "target = modern_df['price']"
   ]
  },
  {
   "cell_type": "markdown",
   "metadata": {},
   "source": [
    "## Log transform target (optional)"
   ]
  },
  {
   "cell_type": "code",
   "execution_count": 763,
   "metadata": {
    "ExecuteTime": {
     "end_time": "2020-10-10T22:14:26.403769Z",
     "start_time": "2020-10-10T22:14:26.400165Z"
    }
   },
   "outputs": [],
   "source": [
    "log_target = (np.log(target))"
   ]
  },
  {
   "cell_type": "code",
   "execution_count": 764,
   "metadata": {
    "ExecuteTime": {
     "end_time": "2020-10-10T22:14:28.090835Z",
     "start_time": "2020-10-10T22:14:28.088454Z"
    }
   },
   "outputs": [],
   "source": [
    "# how to interpret new coeff:\n",
    "\n",
    "# (((math.e)**coeff) - 1)*100"
   ]
  },
  {
   "cell_type": "markdown",
   "metadata": {},
   "source": [
    "## Models"
   ]
  },
  {
   "cell_type": "code",
   "execution_count": 765,
   "metadata": {
    "ExecuteTime": {
     "end_time": "2020-10-10T22:14:29.775021Z",
     "start_time": "2020-10-10T22:14:29.773056Z"
    }
   },
   "outputs": [],
   "source": [
    "# Model 1: Simple LR\n",
    "# Model 2: LR with polynomial transformation\n",
    "# Model 3: RidgeCV LR with feature scaling\n",
    "# Model 4: RidgeCV LR with feature scaling polynomial transformation\n",
    "# Model 5: LassoCV LR with feature scaling transformation \n",
    "# Model 6: LassoCV LR with feature scaling and polynomial transformation "
   ]
  },
  {
   "cell_type": "markdown",
   "metadata": {},
   "source": [
    "## Divide data into train-val-test; choose whether to log transform here:"
   ]
  },
  {
   "cell_type": "code",
   "execution_count": 782,
   "metadata": {
    "ExecuteTime": {
     "end_time": "2020-10-10T22:17:57.843100Z",
     "start_time": "2020-10-10T22:17:57.834631Z"
    }
   },
   "outputs": [],
   "source": [
    "X_train_val, X_test, y_train_val, y_test = train_test_split(features, target, test_size=.2, random_state=10) # hold out 20% of the data for final testing\n",
    "\n",
    "# X_train_val, X_test, y_train_val, y_test = train_test_split(features, log_target, test_size=.2, random_state=10) # for log transformed y\n",
    "\n",
    "#this helps with the way kf will generate indices below\n",
    "X_train_val, y_train_val = np.array(X_train_val), np.array(y_train_val)"
   ]
  },
  {
   "cell_type": "markdown",
   "metadata": {},
   "source": [
    "## Perform validation"
   ]
  },
  {
   "cell_type": "code",
   "execution_count": 783,
   "metadata": {
    "ExecuteTime": {
     "end_time": "2020-10-10T22:18:00.570173Z",
     "start_time": "2020-10-10T22:17:58.811320Z"
    }
   },
   "outputs": [
    {
     "name": "stdout",
     "output_type": "stream",
     "text": [
      "Simple LR\n",
      "Train mean r^2: 0.152 +- 0.004\n",
      "Val mean r^2: 0.149 +- 0.014\n",
      "Train mean RMSE: 4.309 +- 0.034\n",
      "val mean RMSE: 4.312 +- 0.137\n",
      "\n",
      "\n",
      "Simple LR with polynomial transformation\n",
      "Train mean r^2: 0.256 +- 0.004\n",
      "Val mean r^2: 0.243 +- 0.015\n",
      "Train mean RMSE: 4.309 +- 0.034\n",
      "val mean RMSE: 4.312 +- 0.137\n",
      "\n",
      "\n",
      "RidgeCV with scaling transformation\n",
      "Train mean r^2: 0.152 +- 0.004\n",
      "Val mean r^2: 0.149 +- 0.014\n",
      "Train mean RMSE: 4.309 +- 0.034\n",
      "val mean RMSE: 4.312 +- 0.137\n",
      "\n",
      "\n",
      "RidgeCV with scaling and polynomial transformation\n",
      "Train mean r^2: 0.256 +- 0.004\n",
      "Val mean r^2: 0.243 +- 0.015\n",
      "Train mean RMSE: 4.036 +- 0.030\n",
      "val mean RMSE: 4.068 +- 0.118\n",
      "\n",
      "\n",
      "LassoCV with scaling transformation\n",
      "Train mean r^2: 0.152 +- 0.004\n",
      "Val mean r^2: 0.150 +- 0.014\n",
      "Train mean RMSE: 4.309 +- 0.034\n",
      "val mean RMSE: 4.312 +- 0.138\n",
      "\n",
      "\n",
      "LassoCV with scaling and polynomial transformation\n",
      "Train mean r^2: 0.256 +- 0.004\n",
      "Val mean r^2: 0.243 +- 0.015\n",
      "Train mean RMSE: 4.037 +- 0.030\n",
      "val mean RMSE: 4.066 +- 0.119\n"
     ]
    }
   ],
   "source": [
    "kf = KFold(n_splits=5, shuffle=True, random_state = 71)\n",
    "\n",
    "# simple LR stats\n",
    "lm_train_r2s = [] \n",
    "lm_val_r2s = []\n",
    "lm_train_RMSEs = []\n",
    "lm_val_RMSEs = []\n",
    "\n",
    "# polynomial LR stats \n",
    "poly_train_r2s = [] \n",
    "poly_val_r2s = []\n",
    "poly_train_RMSEs = []\n",
    "poly_val_RMSEs = []\n",
    "\n",
    "# ridgeCV scaled LR stats \n",
    "rid_scale_train_r2s = []\n",
    "rid_scale_val_r2s = []\n",
    "rid_scale_train_RMSEs = []\n",
    "rid_scale_val_RMSEs = []\n",
    "\n",
    "# ridgeCV scaled polynomial LR stats\n",
    "rid_scale_poly_train_r2s = []\n",
    "rid_scale_poly_val_r2s = []\n",
    "rid_scale_poly_train_RMSEs = []\n",
    "rid_scale_poly_val_RMSEs = []\n",
    "\n",
    "# lassoCV scaled LR stats\n",
    "las_scale_train_r2s = []\n",
    "las_scale_val_r2s = []\n",
    "las_scale_train_RMSEs = []\n",
    "las_scale_val_RMSEs = []\n",
    "\n",
    "# lassoCV scaled polynomial LR stats\n",
    "las_scale_poly_train_r2s = []\n",
    "las_scale_poly_val_r2s = []\n",
    "las_scale_poly_train_RMSEs = []\n",
    "las_scale_poly_val_RMSEs = []\n",
    "\n",
    "\n",
    "#################################################################################################################    \n",
    "#################################################################################################################\n",
    "#################################################################################################################\n",
    "\n",
    "## LOOP\n",
    "\n",
    "for train_ind, val_ind in kf.split(X_train_val,y_train_val):\n",
    "    \n",
    "    X_train, y_train = X_train_val[train_ind], y_train_val[train_ind]\n",
    "    X_val, y_val = X_train_val[val_ind], y_train_val[val_ind] \n",
    "    \n",
    "    # Scaling\n",
    "    scaler = StandardScaler()\n",
    "    X_train_scaled = scaler.fit_transform(X_train) # fit_transform on train\n",
    "    X_val_scaled = scaler.transform(X_val) # ONLY transform on val\n",
    "    \n",
    "    # Poly transforming\n",
    "    poly = PolynomialFeatures(degree=2) \n",
    "    X_train_poly = poly.fit_transform(X_train)\n",
    "    X_val_poly = poly.transform(X_val)\n",
    "    \n",
    "    # Scaling then poly transforming\n",
    "    X_train_scaled_poly = poly.fit_transform(X_train_scaled)\n",
    "    X_val_scaled_poly = poly.transform(X_val_scaled)\n",
    "\n",
    "\n",
    "#######################################################   \n",
    "    \n",
    "    ### Model 1: Simple LR\n",
    "    lm = LinearRegression()\n",
    "    lm.fit(X_train, y_train)\n",
    "    \n",
    "    lm_train_r2s.append(lm.score(X_train, y_train))\n",
    "    lm_val_r2s.append(lm.score(X_val, y_val))\n",
    "    lm_train_RMSEs.append(mean_squared_error(y_train, lm.predict(X_train),  squared=False))\n",
    "    lm_val_RMSEs.append(mean_squared_error(y_val, lm.predict(X_val),  squared=False))\n",
    "\n",
    "#######################################################\n",
    "    \n",
    "    ### Model 2: polynomial LR \n",
    "    lm_poly = LinearRegression()\n",
    "    lm_poly.fit(X_train_poly, y_train)\n",
    "    \n",
    "    poly_train_r2s.append(lm_poly.score(X_train_poly, y_train))\n",
    "    poly_val_r2s.append(lm_poly.score(X_val_poly, y_val))\n",
    "    poly_train_RMSEs.append(mean_squared_error(y_train, lm.predict(X_train),  squared=False))\n",
    "    poly_val_RMSEs.append(mean_squared_error(y_val, lm.predict(X_val),  squared=False))\n",
    "\n",
    "#######################################################\n",
    "    \n",
    "    ### Model 3: RidgeCV with feature scaling\n",
    "    rid_scale = RidgeCV()\n",
    "    rid_scale.fit(X_train_scaled, y_train)\n",
    "    \n",
    "    rid_scale_train_r2s.append(rid_scale.score(X_train_scaled, y_train))\n",
    "    rid_scale_val_r2s.append(rid_scale.score(X_val_scaled, y_val))\n",
    "    rid_scale_train_RMSEs.append(mean_squared_error(y_train, rid_scale.predict(X_train_scaled),  squared=False))\n",
    "    rid_scale_val_RMSEs.append(mean_squared_error(y_val, rid_scale.predict(X_val_scaled),  squared=False))\n",
    "\n",
    "#######################################################\n",
    "\n",
    "    ### Model 4: RidgeCV with feature scaling and polynomial transformation\n",
    "    \n",
    "    rid_scale_poly = RidgeCV() \n",
    "    rid_scale_poly.fit(X_train_scaled_poly, y_train)\n",
    "\n",
    "    rid_scale_poly_train_r2s.append(rid_scale_poly.score(X_train_scaled_poly, y_train))\n",
    "    rid_scale_poly_val_r2s.append(rid_scale_poly.score(X_val_scaled_poly, y_val))\n",
    "    rid_scale_poly_train_RMSEs.append(mean_squared_error(y_train, rid_scale_poly.predict(X_train_scaled_poly),  squared=False))\n",
    "    rid_scale_poly_val_RMSEs.append(mean_squared_error(y_val, rid_scale_poly.predict(X_val_scaled_poly),  squared=False))\n",
    "\n",
    "#######################################################\n",
    "    \n",
    "    ### Model 5: LassoCV with feature scaling\n",
    "    las_scale = LassoCV()\n",
    "    las_scale.fit(X_train_scaled, y_train)\n",
    "    \n",
    "    las_scale_train_r2s.append(las_scale.score(X_train_scaled, y_train))\n",
    "    las_scale_val_r2s.append(las_scale.score(X_val_scaled, y_val))\n",
    "    las_scale_train_RMSEs.append(mean_squared_error(y_train, las_scale.predict(X_train_scaled),  squared=False))\n",
    "    las_scale_val_RMSEs.append(mean_squared_error(y_val, las_scale.predict(X_val_scaled),  squared=False))\n",
    "\n",
    "#######################################################\n",
    "\n",
    "    ### Model 6: LassoCV with feature scaling and polynomial transformation\n",
    "    \n",
    "    las_scale_poly = LassoCV() \n",
    "    las_scale_poly.fit(X_train_scaled_poly, y_train)\n",
    "\n",
    "    las_scale_poly_train_r2s.append(las_scale_poly.score(X_train_scaled_poly, y_train))\n",
    "    las_scale_poly_val_r2s.append(las_scale_poly.score(X_val_scaled_poly, y_val))\n",
    "    las_scale_poly_train_RMSEs.append(mean_squared_error(y_train, las_scale_poly.predict(X_train_scaled_poly),  squared=False))\n",
    "    las_scale_poly_val_RMSEs.append(mean_squared_error(y_val, las_scale_poly.predict(X_val_scaled_poly),  squared=False))\n",
    "\n",
    "#######################################################\n",
    "\n",
    "\n",
    "#################################################################################################################\n",
    "#################################################################################################################\n",
    "#################################################################################################################\n",
    "\n",
    "# 1. Simple LR output\n",
    "print('Simple LR')\n",
    "# print('Train r2s: ', lm_train_r2s)\n",
    "# print('Val r2s: ', lm_val_r2s)\n",
    "\n",
    "print(f'Train mean r^2: {np.mean(lm_train_r2s):.3f} +- {np.std(lm_train_r2s):.3f}')\n",
    "print(f'Val mean r^2: {np.mean(lm_val_r2s):.3f} +- {np.std(lm_val_r2s):.3f}')\n",
    "\n",
    "print(f'Train mean RMSE: {np.mean(lm_train_RMSEs):.3f} +- {np.std(lm_train_RMSEs):.3f}')\n",
    "print(f'val mean RMSE: {np.mean(lm_val_RMSEs):.3f} +- {np.std(lm_val_RMSEs):.3f}')\n",
    "\n",
    "print('\\n')\n",
    "#################################################################################################################\n",
    "# 2. Simple LR with polynomial transformation output\n",
    "print('Simple LR with polynomial transformation')\n",
    "\n",
    "print(f'Train mean r^2: {np.mean(poly_train_r2s):.3f} +- {np.std(poly_train_r2s):.3f}')\n",
    "print(f'Val mean r^2: {np.mean(poly_val_r2s):.3f} +- {np.std(poly_val_r2s):.3f}')\n",
    "\n",
    "print(f'Train mean RMSE: {np.mean(poly_train_RMSEs):.3f} +- {np.std(poly_train_RMSEs):.3f}')\n",
    "print(f'val mean RMSE: {np.mean(poly_val_RMSEs):.3f} +- {np.std(poly_val_RMSEs):.3f}')\n",
    "\n",
    "print('\\n')\n",
    "#################################################################################################################\n",
    "# 3. RidgeCV with scaling transformation output\n",
    "print('RidgeCV with scaling transformation')\n",
    "\n",
    "print(f'Train mean r^2: {np.mean(rid_scale_train_r2s):.3f} +- {np.std(rid_scale_train_r2s):.3f}')\n",
    "print(f'Val mean r^2: {np.mean(rid_scale_val_r2s):.3f} +- {np.std(rid_scale_val_r2s):.3f}')\n",
    "\n",
    "print(f'Train mean RMSE: {np.mean(rid_scale_train_RMSEs):.3f} +- {np.std(rid_scale_train_RMSEs):.3f}')\n",
    "print(f'val mean RMSE: {np.mean(rid_scale_val_RMSEs):.3f} +- {np.std(rid_scale_val_RMSEs):.3f}')\n",
    "\n",
    "print('\\n')\n",
    "#################################################################################################################\n",
    "# 4. RidgeCV with scaling and polynomial transformation output\n",
    "print('RidgeCV with scaling and polynomial transformation')\n",
    "\n",
    "print(f'Train mean r^2: {np.mean(rid_scale_poly_train_r2s):.3f} +- {np.std(rid_scale_poly_train_r2s):.3f}')\n",
    "print(f'Val mean r^2: {np.mean(rid_scale_poly_val_r2s):.3f} +- {np.std(rid_scale_poly_val_r2s):.3f}')\n",
    "\n",
    "print(f'Train mean RMSE: {np.mean(rid_scale_poly_train_RMSEs):.3f} +- {np.std(rid_scale_poly_train_RMSEs):.3f}')\n",
    "print(f'val mean RMSE: {np.mean(rid_scale_poly_val_RMSEs):.3f} +- {np.std(rid_scale_poly_val_RMSEs):.3f}')\n",
    "\n",
    "print('\\n')\n",
    "#################################################################################################################\n",
    "# 5. LassoCV with scaling transformation output\n",
    "print('LassoCV with scaling transformation')\n",
    "\n",
    "print(f'Train mean r^2: {np.mean(las_scale_train_r2s):.3f} +- {np.std(las_scale_train_r2s):.3f}')\n",
    "print(f'Val mean r^2: {np.mean(las_scale_val_r2s):.3f} +- {np.std(las_scale_val_r2s):.3f}')\n",
    "\n",
    "print(f'Train mean RMSE: {np.mean(las_scale_train_RMSEs):.3f} +- {np.std(las_scale_train_RMSEs):.3f}')\n",
    "print(f'val mean RMSE: {np.mean(las_scale_val_RMSEs):.3f} +- {np.std(las_scale_val_RMSEs):.3f}')\n",
    "\n",
    "print('\\n')\n",
    "#################################################################################################################\n",
    "# 6. LassoCV with scaling and polynomial transformation output\n",
    "print('LassoCV with scaling and polynomial transformation')\n",
    "\n",
    "print(f'Train mean r^2: {np.mean(las_scale_poly_train_r2s):.3f} +- {np.std(las_scale_poly_train_r2s):.3f}')\n",
    "print(f'Val mean r^2: {np.mean(las_scale_poly_val_r2s):.3f} +- {np.std(las_scale_poly_val_r2s):.3f}')\n",
    "\n",
    "print(f'Train mean RMSE: {np.mean(las_scale_poly_train_RMSEs):.3f} +- {np.std(las_scale_poly_train_RMSEs):.3f}')\n",
    "print(f'val mean RMSE: {np.mean(las_scale_poly_val_RMSEs):.3f} +- {np.std(las_scale_poly_val_RMSEs):.3f}')\n"
   ]
  },
  {
   "cell_type": "markdown",
   "metadata": {},
   "source": [
    "## Results"
   ]
  },
  {
   "cell_type": "markdown",
   "metadata": {},
   "source": [
    "All single degree models had r2 ~ 1.5 and RMSE of 4.30.   \n",
    "All polynomial models had r2 ~ 0.256, but RidgeCV and LassoCV had RMSE of 4.0 and simple reg had RMSE of 4.3\n",
    "\n",
    "So best models are LassoCV and RidgeCV. Proceeding with LassoCV to reduce feature space."
   ]
  },
  {
   "cell_type": "markdown",
   "metadata": {},
   "source": [
    "# Score best model on test/holdout set (20%) "
   ]
  },
  {
   "cell_type": "markdown",
   "metadata": {},
   "source": [
    "Reminder:\n",
    "* X_train_val is original train set (80%) that was then used for CV\n",
    "* X_test is original test set (20%) __that has not been used for *anything* until now__"
   ]
  },
  {
   "cell_type": "code",
   "execution_count": 784,
   "metadata": {
    "ExecuteTime": {
     "end_time": "2020-10-10T22:18:03.488028Z",
     "start_time": "2020-10-10T22:18:03.232757Z"
    },
    "scrolled": false
   },
   "outputs": [
    {
     "name": "stdout",
     "output_type": "stream",
     "text": [
      "Lasso Scaled Polynomial Regression R^2 - Train set: 0.255\n",
      "Lasso Scaled Polynomial Regression R^2 - Test set: 0.296\n",
      "RMSE on test set: 3.993\n"
     ]
    }
   ],
   "source": [
    "# Scaling\n",
    "scaler = StandardScaler()\n",
    "X_train_scaled = scaler.fit_transform(X_train_val) # fit_transform on original 80% of data\n",
    "X_test_scaled = scaler.transform(X_test) # ONLY transform on val\n",
    "\n",
    "# Polynomial transform\n",
    "poly = PolynomialFeatures(degree=2) \n",
    "X_train_scaled_poly = poly.fit_transform(X_train_scaled)\n",
    "X_test_scaled_poly = poly.transform(X_test_scaled)\n",
    "\n",
    "las_scale_poly_TEST = LassoCV()\n",
    "las_scale_poly_TEST.fit(X_train_scaled_poly, y_train_val) # fitting model with transformed original train set\n",
    "\n",
    "print(f'Lasso Scaled Polynomial Regression R^2 - Train set: {las_scale_poly_TEST.score(X_train_scaled_poly, y_train_val):.3f}') \n",
    "\n",
    "print(f'Lasso Scaled Polynomial Regression R^2 - Test set: {las_scale_poly_TEST.score(X_test_scaled_poly, y_test):.3f}') \n",
    "\n",
    "print(f'RMSE on test set: {mean_squared_error(y_test, las_scale_poly_TEST.predict(X_test_scaled_poly),  squared=False):.3f}') \n"
   ]
  },
  {
   "cell_type": "markdown",
   "metadata": {},
   "source": [
    "## Coefficients"
   ]
  },
  {
   "cell_type": "code",
   "execution_count": 785,
   "metadata": {
    "ExecuteTime": {
     "end_time": "2020-10-10T22:18:04.898471Z",
     "start_time": "2020-10-10T22:18:04.890476Z"
    },
    "scrolled": false
   },
   "outputs": [
    {
     "name": "stdout",
     "output_type": "stream",
     "text": [
      "rarity_num 1.1576711305759655\n",
      "num_printings 0.31310989250459786\n",
      "time_since_release 0.291950703354086\n",
      "cmc -0.4321032435499924\n",
      "rarity_num^2 1.433661954532396\n",
      "rarity_num time_since_release 0.37898568188869514\n",
      "rarity_num cmc -0.548759824427503\n",
      "rarity_num is_w -0.49034319688228295\n",
      "rarity_num is_u -0.42932556505643\n",
      "rarity_num is_b -0.2693287868404647\n",
      "rarity_num is_r -0.6112346448057856\n",
      "rarity_num is_g -0.28239476996388846\n",
      "cmc^2 0.26876268757348226\n",
      "is_w is_r 0.30942541429111614\n",
      "is_r is_g 0.2758355288702709\n",
      "\n",
      "\n",
      "total: 15\n"
     ]
    }
   ],
   "source": [
    "i=0\n",
    "for name, coef in list(zip(poly.get_feature_names(features.columns), las_scale_poly_TEST.coef_)):\n",
    "# for name, coef in list(zip(poly.get_feature_names(features.columns), new_coef)): # for log transformed y model\n",
    "\n",
    "    if abs(coef) > 0.25:\n",
    "        print(name, coef)\n",
    "        i+=1\n",
    "print('\\n')\n",
    "print('total:',i)"
   ]
  },
  {
   "cell_type": "markdown",
   "metadata": {},
   "source": [
    "### Need to exponentiate if log transforming y"
   ]
  },
  {
   "cell_type": "code",
   "execution_count": 769,
   "metadata": {
    "ExecuteTime": {
     "end_time": "2020-10-10T22:14:57.805414Z",
     "start_time": "2020-10-10T22:14:57.800692Z"
    },
    "scrolled": true
   },
   "outputs": [
    {
     "data": {
      "text/plain": [
       "[0.0,\n",
       " 76.77001916550907,\n",
       " 7.762879064593697,\n",
       " 14.93153658322175,\n",
       " 1.3051573263884064,\n",
       " -14.379747201375071,\n",
       " 0.0,\n",
       " 0.0,\n",
       " 0.0,\n",
       " 0.0]"
      ]
     },
     "execution_count": 769,
     "metadata": {},
     "output_type": "execute_result"
    }
   ],
   "source": [
    "new_coef = [(((math.e)**coef) - 1)*100 for coef in las_scale_poly_TEST.coef_]\n",
    "\n",
    "new_coef[:10]"
   ]
  },
  {
   "cell_type": "code",
   "execution_count": 772,
   "metadata": {
    "ExecuteTime": {
     "end_time": "2020-10-10T22:16:07.652475Z",
     "start_time": "2020-10-10T22:16:07.634141Z"
    }
   },
   "outputs": [
    {
     "name": "stdout",
     "output_type": "stream",
     "text": [
      "rarity_num 76.77001916550907\n",
      "num_printings 7.762879064593697\n",
      "time_since_release 14.93153658322175\n",
      "rules_text_len 1.3051573263884064\n",
      "cmc -14.379747201375071\n",
      "rarity_num^2 49.18064971111438\n",
      "rarity_num num_printings 6.272326138834483\n",
      "rarity_num time_since_release 11.408366618480525\n",
      "rarity_num rules_text_len -1.2364528683515896\n",
      "rarity_num cmc -11.179313128162837\n",
      "rarity_num is_w -5.060542801029033\n",
      "rarity_num is_u -6.131595696854985\n",
      "rarity_num is_b -3.4881949608046914\n",
      "rarity_num is_r -9.667763289477815\n",
      "rarity_num is_g -2.705004603882133\n",
      "num_printings time_since_release -1.0246935990658512\n",
      "num_printings rules_text_len 4.8974292482613535\n",
      "num_printings cmc -1.6765508258271278\n",
      "num_printings is_u 2.7075895187617327\n",
      "num_printings is_b 1.5684385630530873\n",
      "num_printings is_r 1.628860042252267\n",
      "num_printings is_g 2.151135716633612\n",
      "time_since_release rules_text_len 3.1170100005930124\n",
      "time_since_release cmc -3.842573149315165\n",
      "time_since_release is_w -1.7368930206273614\n",
      "time_since_release is_u -1.3040620727927221\n",
      "time_since_release is_b -1.3482898928977138\n",
      "time_since_release is_r -3.1218757633339034\n",
      "time_since_release is_g -1.3220413102954187\n",
      "rules_text_len is_u 1.9488178300523407\n",
      "rules_text_len is_g 1.874806797824946\n",
      "cmc^2 7.813873221723888\n",
      "cmc is_w 1.1818268819357103\n",
      "cmc is_r 2.535374498933063\n",
      "is_w is_u 2.307496350554783\n",
      "is_w is_b 3.182030808308589\n",
      "is_w is_r 3.5567548785282233\n",
      "is_w is_g 3.414381485661533\n",
      "is_u is_b 2.8969763545014793\n",
      "is_u is_r 3.002700178011941\n",
      "is_u is_g 1.8989459713597778\n",
      "is_b is_r 3.3368927090932754\n",
      "is_r^2 -2.5589711947533567\n",
      "is_r is_g 2.777704224891542\n",
      "\n",
      "\n",
      "total: 44\n"
     ]
    }
   ],
   "source": [
    "i=0\n",
    "for name, coef in list(zip(poly.get_feature_names(features.columns), new_coef)):\n",
    "# for name, coef in list(zip(poly.get_feature_names(features.columns), new_coef)): # for log transformed y model\n",
    "\n",
    "    if abs(coef) > 1:\n",
    "        print(name, coef)\n",
    "        i+=1\n",
    "print('\\n')\n",
    "print('total:',i)"
   ]
  },
  {
   "cell_type": "markdown",
   "metadata": {},
   "source": [
    "Interpreting coeff on log-transformed model:\n",
    "\n",
    "For every one-unit increase in the independent variable, our dependent variable increases by about 76.77%."
   ]
  },
  {
   "cell_type": "markdown",
   "metadata": {},
   "source": [
    "# Predictions/residuals on model"
   ]
  },
  {
   "cell_type": "code",
   "execution_count": 787,
   "metadata": {
    "ExecuteTime": {
     "end_time": "2020-10-10T22:18:13.669340Z",
     "start_time": "2020-10-10T22:18:13.666106Z"
    }
   },
   "outputs": [],
   "source": [
    "test_set_pred = las_scale_poly_TEST.predict(X_test_scaled_poly)"
   ]
  },
  {
   "cell_type": "markdown",
   "metadata": {},
   "source": [
    "## Predicted vs actual"
   ]
  },
  {
   "cell_type": "code",
   "execution_count": 788,
   "metadata": {
    "ExecuteTime": {
     "end_time": "2020-10-10T22:18:14.889427Z",
     "start_time": "2020-10-10T22:18:14.745149Z"
    },
    "scrolled": true
   },
   "outputs": [
    {
     "data": {
      "text/plain": [
       "Text(0, 0.5, 'actual')"
      ]
     },
     "execution_count": 788,
     "metadata": {},
     "output_type": "execute_result"
    },
    {
     "data": {
      "image/png": "[encoded data removed]",
      "text/plain": [
       "<Figure size 432x288 with 1 Axes>"
      ]
     },
     "metadata": {
      "needs_background": "light"
     },
     "output_type": "display_data"
    }
   ],
   "source": [
    "plt.scatter(test_set_pred, y_test)\n",
    "plt.xlabel('predicted', size = 12)\n",
    "plt.ylabel('actual', size = 12)"
   ]
  },
  {
   "cell_type": "markdown",
   "metadata": {},
   "source": [
    "## Predicted vs residual"
   ]
  },
  {
   "cell_type": "markdown",
   "metadata": {},
   "source": [
    "Residuals - how far off are we?"
   ]
  },
  {
   "cell_type": "code",
   "execution_count": 789,
   "metadata": {
    "ExecuteTime": {
     "end_time": "2020-10-10T22:18:16.237164Z",
     "start_time": "2020-10-10T22:18:16.234095Z"
    }
   },
   "outputs": [],
   "source": [
    "resid = test_set_pred-y_test"
   ]
  },
  {
   "cell_type": "code",
   "execution_count": 790,
   "metadata": {
    "ExecuteTime": {
     "end_time": "2020-10-10T22:18:16.919106Z",
     "start_time": "2020-10-10T22:18:16.801642Z"
    },
    "scrolled": true
   },
   "outputs": [
    {
     "data": {
      "image/png": "[encoded data removed]",
      "text/plain": [
       "<Figure size 432x288 with 1 Axes>"
      ]
     },
     "metadata": {
      "needs_background": "light"
     },
     "output_type": "display_data"
    }
   ],
   "source": [
    "plt.scatter(test_set_pred, resid)\n",
    "plt.xlabel('predicted', size=12)\n",
    "plt.ylabel('residual', size = 12)\n",
    "plt.title('predicted vs residual', size = 15);\n",
    "# plt.title('predicted vs residual (log transformed target)', size = 15); # for log transfored"
   ]
  },
  {
   "cell_type": "markdown",
   "metadata": {},
   "source": [
    "### Note: Residual plot improves with log transformed y. However, used untransformed dataset to make error interpretable in units of y."
   ]
  },
  {
   "cell_type": "markdown",
   "metadata": {},
   "source": [
    "# RMSE and MAE"
   ]
  },
  {
   "cell_type": "markdown",
   "metadata": {},
   "source": [
    "## MSE"
   ]
  },
  {
   "cell_type": "code",
   "execution_count": 791,
   "metadata": {
    "ExecuteTime": {
     "end_time": "2020-10-10T22:18:29.782281Z",
     "start_time": "2020-10-10T22:18:29.777422Z"
    }
   },
   "outputs": [
    {
     "data": {
      "text/plain": [
       "15.942259196186322"
      ]
     },
     "execution_count": 791,
     "metadata": {},
     "output_type": "execute_result"
    }
   ],
   "source": [
    "mean_squared_error(y_test, test_set_pred,  squared=True)"
   ]
  },
  {
   "cell_type": "markdown",
   "metadata": {},
   "source": [
    "## RMSE"
   ]
  },
  {
   "cell_type": "code",
   "execution_count": 792,
   "metadata": {
    "ExecuteTime": {
     "end_time": "2020-10-10T22:18:33.670280Z",
     "start_time": "2020-10-10T22:18:33.665347Z"
    }
   },
   "outputs": [
    {
     "data": {
      "text/plain": [
       "3.9927758760273937"
      ]
     },
     "execution_count": 792,
     "metadata": {},
     "output_type": "execute_result"
    }
   ],
   "source": [
    "mean_squared_error(y_test, test_set_pred,  squared=False)"
   ]
  },
  {
   "cell_type": "markdown",
   "metadata": {},
   "source": [
    "## MAE"
   ]
  },
  {
   "cell_type": "code",
   "execution_count": 793,
   "metadata": {
    "ExecuteTime": {
     "end_time": "2020-10-10T22:18:34.782576Z",
     "start_time": "2020-10-10T22:18:34.777238Z"
    },
    "scrolled": true
   },
   "outputs": [
    {
     "data": {
      "text/plain": [
       "1.499174175023646"
      ]
     },
     "execution_count": 793,
     "metadata": {},
     "output_type": "execute_result"
    }
   ],
   "source": [
    "def mean_abs_err(y_true, y_pred):\n",
    "    return np.mean(np.abs(y_pred - y_true)) \n",
    "\n",
    "mae(y_test, test_set_pred)"
   ]
  },
  {
   "cell_type": "markdown",
   "metadata": {},
   "source": [
    "MAE vs RMSE Notes:\n",
    "\n",
    "\"Differences: Taking the square root of the average squared errors has some interesting implications for RMSE. Since the errors are squared before they are averaged, the RMSE gives a relatively high weight to large errors. This means the RMSE should be more useful when large errors are particularly undesirable.\""
   ]
  },
  {
   "cell_type": "markdown",
   "metadata": {
    "ExecuteTime": {
     "end_time": "2020-10-08T23:25:50.982594Z",
     "start_time": "2020-10-08T23:25:50.979138Z"
    }
   },
   "source": [
    "MAE perhaps more appropriate for this"
   ]
  }
 ],
 "metadata": {
  "kernelspec": {
   "display_name": "Python [conda env:metis] *",
   "language": "python",
   "name": "conda-env-metis-py"
  },
  "language_info": {
   "codemirror_mode": {
    "name": "ipython",
    "version": 3
   },
   "file_extension": ".py",
   "mimetype": "text/x-python",
   "name": "python",
   "nbconvert_exporter": "python",
   "pygments_lexer": "ipython3",
   "version": "3.8.5"
  },
  "toc": {
   "base_numbering": 1,
   "nav_menu": {},
   "number_sections": true,
   "sideBar": true,
   "skip_h1_title": false,
   "title_cell": "Table of Contents",
   "title_sidebar": "Contents",
   "toc_cell": false,
   "toc_position": {
    "height": "calc(100% - 180px)",
    "left": "10px",
    "top": "150px",
    "width": "331px"
   },
   "toc_section_display": true,
   "toc_window_display": true
  }
 },
 "nbformat": 4,
 "nbformat_minor": 4
}
